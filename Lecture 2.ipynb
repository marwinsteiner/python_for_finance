{
 "cells": [
  {
   "metadata": {
    "ExecuteTime": {
     "end_time": "2025-02-03T10:01:16.265372Z",
     "start_time": "2025-02-03T10:01:13.804855Z"
    }
   },
   "cell_type": "code",
   "source": "import pandas as pd",
   "id": "43b74db6a3462c63",
   "outputs": [],
   "execution_count": 1
  },
  {
   "metadata": {},
   "cell_type": "markdown",
   "source": "First we have to import pandas - I import it as `pd`. ",
   "id": "7e0b7707c1d1b134"
  },
  {
   "metadata": {
    "ExecuteTime": {
     "end_time": "2025-02-03T10:02:33.506753Z",
     "start_time": "2025-02-03T10:02:33.460963Z"
    }
   },
   "cell_type": "code",
   "source": [
    "df = pd.DataFrame(\n",
    "    {\"a\": [4, 5, 6],\n",
    "     \"b\": [7, 8, 9],\n",
    "     \"c\": [10, 11, 12]},\n",
    "    index=[1, 2, 3],\n",
    ")\n",
    "print(df)"
   ],
   "id": "initial_id",
   "outputs": [
    {
     "name": "stdout",
     "output_type": "stream",
     "text": [
      "   a  b   c\n",
      "1  4  7  10\n",
      "2  5  8  11\n",
      "3  6  9  12\n"
     ]
    }
   ],
   "execution_count": 3
  },
  {
   "metadata": {},
   "cell_type": "markdown",
   "source": [
    "I've created a dataframe and print it out above.\n",
    "Now, I'd like to slice the first row (row 1), and put this in a new dataframne."
   ],
   "id": "4ba929459aef60c5"
  },
  {
   "metadata": {
    "ExecuteTime": {
     "end_time": "2025-02-03T10:03:52.467780Z",
     "start_time": "2025-02-03T10:03:52.420056Z"
    }
   },
   "cell_type": "code",
   "source": [
    "second_df = pd.DataFrame(df.head(1))\n",
    "type(second_df)"
   ],
   "id": "d859f61c977267f2",
   "outputs": [
    {
     "data": {
      "text/plain": [
       "pandas.core.frame.DataFrame"
      ]
     },
     "execution_count": 6,
     "metadata": {},
     "output_type": "execute_result"
    }
   ],
   "execution_count": 6
  },
  {
   "metadata": {
    "ExecuteTime": {
     "end_time": "2025-02-03T10:03:54.662768Z",
     "start_time": "2025-02-03T10:03:54.650329Z"
    }
   },
   "cell_type": "code",
   "source": "print(second_df)",
   "id": "e2db529a5195b02",
   "outputs": [
    {
     "name": "stdout",
     "output_type": "stream",
     "text": [
      "   a  b   c\n",
      "1  4  7  10\n"
     ]
    }
   ],
   "execution_count": 7
  },
  {
   "metadata": {},
   "cell_type": "code",
   "outputs": [],
   "execution_count": null,
   "source": "",
   "id": "aeb67e9b29a96214"
  }
 ],
 "metadata": {
  "kernelspec": {
   "display_name": "Python 3",
   "language": "python",
   "name": "python3"
  },
  "language_info": {
   "codemirror_mode": {
    "name": "ipython",
    "version": 2
   },
   "file_extension": ".py",
   "mimetype": "text/x-python",
   "name": "python",
   "nbconvert_exporter": "python",
   "pygments_lexer": "ipython2",
   "version": "2.7.6"
  }
 },
 "nbformat": 4,
 "nbformat_minor": 5
}
