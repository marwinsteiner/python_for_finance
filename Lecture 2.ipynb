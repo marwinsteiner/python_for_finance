{
 "cells": [
  {
   "metadata": {},
   "cell_type": "markdown",
   "source": "# Classwork",
   "id": "76b1278133de010e"
  },
  {
   "metadata": {
    "ExecuteTime": {
     "end_time": "2025-02-03T14:42:12.091422Z",
     "start_time": "2025-02-03T14:42:11.849503Z"
    }
   },
   "cell_type": "code",
   "source": "import pandas as pd",
   "id": "43b74db6a3462c63",
   "outputs": [],
   "execution_count": 13
  },
  {
   "metadata": {},
   "cell_type": "markdown",
   "source": "First we have to import pandas - I import it as `pd`. ",
   "id": "7e0b7707c1d1b134"
  },
  {
   "metadata": {
    "ExecuteTime": {
     "end_time": "2025-02-03T14:42:14.342371Z",
     "start_time": "2025-02-03T14:42:14.290435Z"
    }
   },
   "cell_type": "code",
   "source": [
    "df = pd.DataFrame(\n",
    "    {\"a\": [4, 5, 6],\n",
    "     \"b\": [7, 8, 9],\n",
    "     \"c\": [10, 11, 12]},\n",
    "    index=[1, 2, 3],\n",
    ")\n",
    "print(df)"
   ],
   "id": "initial_id",
   "outputs": [
    {
     "name": "stdout",
     "output_type": "stream",
     "text": [
      "   a  b   c\n",
      "1  4  7  10\n",
      "2  5  8  11\n",
      "3  6  9  12\n"
     ]
    }
   ],
   "execution_count": 14
  },
  {
   "metadata": {},
   "cell_type": "markdown",
   "source": [
    "I've created a dataframe and print it out above.\n",
    "Now, I'd like to slice the first row (row 1), and put this in a new dataframne."
   ],
   "id": "4ba929459aef60c5"
  },
  {
   "metadata": {
    "ExecuteTime": {
     "end_time": "2025-02-03T14:42:17.804479Z",
     "start_time": "2025-02-03T14:42:17.733978Z"
    }
   },
   "cell_type": "code",
   "source": [
    "second_df = pd.DataFrame(df.head(1))\n",
    "type(second_df)"
   ],
   "id": "d859f61c977267f2",
   "outputs": [
    {
     "data": {
      "text/plain": [
       "pandas.core.frame.DataFrame"
      ]
     },
     "execution_count": 15,
     "metadata": {},
     "output_type": "execute_result"
    }
   ],
   "execution_count": 15
  },
  {
   "metadata": {
    "ExecuteTime": {
     "end_time": "2025-02-03T14:42:19.070594Z",
     "start_time": "2025-02-03T14:42:19.053360Z"
    }
   },
   "cell_type": "code",
   "source": "print(second_df)",
   "id": "e2db529a5195b02",
   "outputs": [
    {
     "name": "stdout",
     "output_type": "stream",
     "text": [
      "   a  b   c\n",
      "1  4  7  10\n"
     ]
    }
   ],
   "execution_count": 16
  },
  {
   "metadata": {},
   "cell_type": "markdown",
   "source": "# Homework",
   "id": "22f4cf31185216f8"
  },
  {
   "metadata": {},
   "cell_type": "markdown",
   "source": [
    "Homework Task:\n",
    "Create a pandas data frame with 3 columns:  \n",
    "1. Integers from 0 to 1\n",
    "2. Their squares, \n",
    "3. Their logs"
   ],
   "id": "69d6965244918a7e"
  },
  {
   "metadata": {
    "ExecuteTime": {
     "end_time": "2025-02-03T14:42:22.992245Z",
     "start_time": "2025-02-03T14:42:22.972170Z"
    }
   },
   "cell_type": "code",
   "source": "import numpy as np",
   "id": "137f947d041347a2",
   "outputs": [],
   "execution_count": 17
  },
  {
   "metadata": {
    "ExecuteTime": {
     "end_time": "2025-02-03T14:42:23.862954Z",
     "start_time": "2025-02-03T14:42:23.845025Z"
    }
   },
   "cell_type": "code",
   "source": [
    "# np.seterr(divide='ignore')\n",
    "integers = df = pd.DataFrame(\n",
    "    {\"a\": [0, 1],\n",
    "     \"b\": [0 ** 2, 1 ** 2],\n",
    "     \"c\": [np.log(0), np.log(1)]},\n",
    "    index=[1, 2],\n",
    ")\n",
    "print(df)"
   ],
   "id": "25f96a97b2eb4171",
   "outputs": [
    {
     "name": "stdout",
     "output_type": "stream",
     "text": [
      "   a  b    c\n",
      "1  0  0 -inf\n",
      "2  1  1  0.0\n"
     ]
    }
   ],
   "execution_count": 18
  },
  {
   "metadata": {},
   "cell_type": "markdown",
   "source": "We have a math error because we can't divide by 0. If you uncomment the line `np.seterr(divide='ignore')` above, we can simply ignore the warning.",
   "id": "1abd32d1cfca9128"
  },
  {
   "metadata": {},
   "cell_type": "code",
   "outputs": [],
   "execution_count": null,
   "source": "",
   "id": "f63ad0181144cbd1"
  }
 ],
 "metadata": {
  "kernelspec": {
   "display_name": "Python 3",
   "language": "python",
   "name": "python3"
  },
  "language_info": {
   "codemirror_mode": {
    "name": "ipython",
    "version": 2
   },
   "file_extension": ".py",
   "mimetype": "text/x-python",
   "name": "python",
   "nbconvert_exporter": "python",
   "pygments_lexer": "ipython2",
   "version": "2.7.6"
  }
 },
 "nbformat": 4,
 "nbformat_minor": 5
}
