{
 "nbformat": 4,
 "nbformat_minor": 0,
 "metadata": {
  "colab": {
   "provenance": [
    {
     "file_id": "13UtoL58O4qYR7qiKLgs7AK4zU6mEQGwW",
     "timestamp": 1706994023721
    }
   ],
   "authorship_tag": "ABX9TyMHIAlCg74FUOWCTl5WYFIk"
  },
  "kernelspec": {
   "name": "python3",
   "display_name": "Python 3 (ipykernel)",
   "language": "python"
  },
  "language_info": {
   "name": "python"
  }
 },
 "cells": [
  {
   "metadata": {},
   "cell_type": "markdown",
   "source": [
    "# Interactive Notebook Lecture 2\n",
    "Courtesy of Dr. Malvina Marchese"
   ]
  },
  {
   "metadata": {},
   "cell_type": "code",
   "outputs": [],
   "execution_count": 1,
   "source": "import pandas as pd\n"
  },
  {
   "cell_type": "code",
   "source": [
    "import numpy as np\n",
    "#generate random data form a normal\n",
    "var1=np.random.randn(100)*5+20\n",
    "print(var1)\n",
    "#generate a second set of data\n",
    "var2=np.random.rand(100)>0\n",
    "print(var2)\n",
    "#generate a label\n",
    "labels=[\"Profit\" \" Returns\"]\n",
    "\n"
   ],
   "metadata": {
    "id": "oLlLany9xoOU",
    "executionInfo": {
     "status": "ok",
     "timestamp": 1707061899999,
     "user_tz": 0,
     "elapsed": 254,
     "user": {
      "displayName": "malvina marchese",
      "userId": "02113412455032806183"
     }
    },
    "ExecuteTime": {
     "end_time": "2025-02-03T09:42:35.983636Z",
     "start_time": "2025-02-03T09:42:35.971462Z"
    }
   },
   "outputs": [
    {
     "name": "stdout",
     "output_type": "stream",
     "text": [
      "[17.0677209  19.09947549 29.29285028 26.85577736 12.78024583 18.38759873\n",
      " 24.38616169  6.47566725 18.6491036  18.25135041 30.55478421 23.20646984\n",
      " 19.37793472 23.76093439 17.29506332 19.34519253 10.81991608 13.79393016\n",
      " 16.09497446 31.10989167 37.19634357 16.2205314  12.82631199 21.47891854\n",
      " 11.64766017 25.9673325  21.50764988 20.47101097 18.99738884 25.3698327\n",
      " 24.17253024 24.60468256 25.69757129 14.20039949 17.03488857 16.11343781\n",
      " 21.13921656 18.28429772 14.44453192 22.35448039 12.34390697 21.77296618\n",
      " 23.99231881 21.8464086  23.84897    26.7622472  20.91740781 24.53721361\n",
      " 18.25310931 25.46194789 25.98303471 18.15191406 19.2532844  14.38010595\n",
      " 13.69979587 29.44910071 19.69959108 16.26838801 11.09031489 20.54601594\n",
      " 20.00239791 22.6947175  16.22936669 21.48209645 23.65272084 12.93459434\n",
      " 13.26210633 23.13182348 13.67526672 21.63404484 26.35646002 24.06014111\n",
      " 17.45093097  8.3725228  22.08564652 26.40658814 11.16594742 17.47129586\n",
      " 25.31137734 19.46487457 21.52288985 14.51821598 17.12278542 11.55905386\n",
      " 20.51135975 21.42534507 22.45480581 23.3720857  21.44824845 23.41756477\n",
      " 15.39185612 28.10911159 14.52923689 21.21093588 21.05752936 16.12700815\n",
      " 23.95664356 15.81264118 26.9810193  21.20946429]\n",
      "[ True  True  True  True  True  True  True  True  True  True  True  True\n",
      "  True  True  True  True  True  True  True  True  True  True  True  True\n",
      "  True  True  True  True  True  True  True  True  True  True  True  True\n",
      "  True  True  True  True  True  True  True  True  True  True  True  True\n",
      "  True  True  True  True  True  True  True  True  True  True  True  True\n",
      "  True  True  True  True  True  True  True  True  True  True  True  True\n",
      "  True  True  True  True  True  True  True  True  True  True  True  True\n",
      "  True  True  True  True  True  True  True  True  True  True  True  True\n",
      "  True  True  True  True]\n"
     ]
    }
   ],
   "execution_count": 3
  },
  {
   "cell_type": "code",
   "source": [
    "#create a dictionary\n",
    "D={\"labels[0]\":var1, \"labels[1]\":var2}"
   ],
   "metadata": {
    "id": "d3uggw1e0GB2",
    "executionInfo": {
     "status": "ok",
     "timestamp": 1707061904344,
     "user_tz": 0,
     "elapsed": 265,
     "user": {
      "displayName": "malvina marchese",
      "userId": "02113412455032806183"
     }
    },
    "ExecuteTime": {
     "end_time": "2025-02-03T09:45:29.330633Z",
     "start_time": "2025-02-03T09:45:29.304489Z"
    }
   },
   "outputs": [],
   "execution_count": 4
  },
  {
   "cell_type": "code",
   "source": "print(D[\"labels[0]\"])",
   "metadata": {
    "id": "vFCGBZ6o15NW",
    "ExecuteTime": {
     "end_time": "2025-02-03T09:47:20.945986Z",
     "start_time": "2025-02-03T09:47:20.934621Z"
    }
   },
   "outputs": [
    {
     "name": "stdout",
     "output_type": "stream",
     "text": [
      "[17.0677209  19.09947549 29.29285028 26.85577736 12.78024583 18.38759873\n",
      " 24.38616169  6.47566725 18.6491036  18.25135041 30.55478421 23.20646984\n",
      " 19.37793472 23.76093439 17.29506332 19.34519253 10.81991608 13.79393016\n",
      " 16.09497446 31.10989167 37.19634357 16.2205314  12.82631199 21.47891854\n",
      " 11.64766017 25.9673325  21.50764988 20.47101097 18.99738884 25.3698327\n",
      " 24.17253024 24.60468256 25.69757129 14.20039949 17.03488857 16.11343781\n",
      " 21.13921656 18.28429772 14.44453192 22.35448039 12.34390697 21.77296618\n",
      " 23.99231881 21.8464086  23.84897    26.7622472  20.91740781 24.53721361\n",
      " 18.25310931 25.46194789 25.98303471 18.15191406 19.2532844  14.38010595\n",
      " 13.69979587 29.44910071 19.69959108 16.26838801 11.09031489 20.54601594\n",
      " 20.00239791 22.6947175  16.22936669 21.48209645 23.65272084 12.93459434\n",
      " 13.26210633 23.13182348 13.67526672 21.63404484 26.35646002 24.06014111\n",
      " 17.45093097  8.3725228  22.08564652 26.40658814 11.16594742 17.47129586\n",
      " 25.31137734 19.46487457 21.52288985 14.51821598 17.12278542 11.55905386\n",
      " 20.51135975 21.42534507 22.45480581 23.3720857  21.44824845 23.41756477\n",
      " 15.39185612 28.10911159 14.52923689 21.21093588 21.05752936 16.12700815\n",
      " 23.95664356 15.81264118 26.9810193  21.20946429]\n"
     ]
    }
   ],
   "execution_count": 9
  },
  {
   "cell_type": "code",
   "source": [
    "ret=D.get(\"labels[0]\")\n",
    "ret"
   ],
   "metadata": {
    "id": "ikLdX7Xc0F_t",
    "ExecuteTime": {
     "end_time": "2025-02-03T09:47:28.036066Z",
     "start_time": "2025-02-03T09:47:27.967368Z"
    }
   },
   "outputs": [
    {
     "data": {
      "text/plain": [
       "array([17.0677209 , 19.09947549, 29.29285028, 26.85577736, 12.78024583,\n",
       "       18.38759873, 24.38616169,  6.47566725, 18.6491036 , 18.25135041,\n",
       "       30.55478421, 23.20646984, 19.37793472, 23.76093439, 17.29506332,\n",
       "       19.34519253, 10.81991608, 13.79393016, 16.09497446, 31.10989167,\n",
       "       37.19634357, 16.2205314 , 12.82631199, 21.47891854, 11.64766017,\n",
       "       25.9673325 , 21.50764988, 20.47101097, 18.99738884, 25.3698327 ,\n",
       "       24.17253024, 24.60468256, 25.69757129, 14.20039949, 17.03488857,\n",
       "       16.11343781, 21.13921656, 18.28429772, 14.44453192, 22.35448039,\n",
       "       12.34390697, 21.77296618, 23.99231881, 21.8464086 , 23.84897   ,\n",
       "       26.7622472 , 20.91740781, 24.53721361, 18.25310931, 25.46194789,\n",
       "       25.98303471, 18.15191406, 19.2532844 , 14.38010595, 13.69979587,\n",
       "       29.44910071, 19.69959108, 16.26838801, 11.09031489, 20.54601594,\n",
       "       20.00239791, 22.6947175 , 16.22936669, 21.48209645, 23.65272084,\n",
       "       12.93459434, 13.26210633, 23.13182348, 13.67526672, 21.63404484,\n",
       "       26.35646002, 24.06014111, 17.45093097,  8.3725228 , 22.08564652,\n",
       "       26.40658814, 11.16594742, 17.47129586, 25.31137734, 19.46487457,\n",
       "       21.52288985, 14.51821598, 17.12278542, 11.55905386, 20.51135975,\n",
       "       21.42534507, 22.45480581, 23.3720857 , 21.44824845, 23.41756477,\n",
       "       15.39185612, 28.10911159, 14.52923689, 21.21093588, 21.05752936,\n",
       "       16.12700815, 23.95664356, 15.81264118, 26.9810193 , 21.20946429])"
      ]
     },
     "execution_count": 10,
     "metadata": {},
     "output_type": "execute_result"
    }
   ],
   "execution_count": 10
  },
  {
   "cell_type": "code",
   "source": [
    "#turn the dictionary into a data frame\n",
    "df=pd.DataFrame(data=D)\n",
    "type(df)"
   ],
   "metadata": {
    "colab": {
     "base_uri": "https://localhost:8080/"
    },
    "id": "0xd3zmRa3HY3",
    "executionInfo": {
     "status": "ok",
     "timestamp": 1707061911997,
     "user_tz": 0,
     "elapsed": 216,
     "user": {
      "displayName": "malvina marchese",
      "userId": "02113412455032806183"
     }
    },
    "outputId": "b49b17f7-99bf-4954-ac43-a5bb629952df",
    "ExecuteTime": {
     "end_time": "2025-02-03T09:47:33.750061Z",
     "start_time": "2025-02-03T09:47:33.636139Z"
    }
   },
   "outputs": [
    {
     "data": {
      "text/plain": [
       "pandas.core.frame.DataFrame"
      ]
     },
     "execution_count": 11,
     "metadata": {},
     "output_type": "execute_result"
    }
   ],
   "execution_count": 11
  },
  {
   "cell_type": "code",
   "source": [
    "df\n"
   ],
   "metadata": {
    "id": "7iIzVYrO4O8I",
    "ExecuteTime": {
     "end_time": "2025-02-03T09:47:38.557758Z",
     "start_time": "2025-02-03T09:47:38.500513Z"
    }
   },
   "outputs": [
    {
     "data": {
      "text/plain": [
       "    labels[0]  labels[1]\n",
       "0   17.067721       True\n",
       "1   19.099475       True\n",
       "2   29.292850       True\n",
       "3   26.855777       True\n",
       "4   12.780246       True\n",
       "..        ...        ...\n",
       "95  16.127008       True\n",
       "96  23.956644       True\n",
       "97  15.812641       True\n",
       "98  26.981019       True\n",
       "99  21.209464       True\n",
       "\n",
       "[100 rows x 2 columns]"
      ],
      "text/html": [
       "<div>\n",
       "<style scoped>\n",
       "    .dataframe tbody tr th:only-of-type {\n",
       "        vertical-align: middle;\n",
       "    }\n",
       "\n",
       "    .dataframe tbody tr th {\n",
       "        vertical-align: top;\n",
       "    }\n",
       "\n",
       "    .dataframe thead th {\n",
       "        text-align: right;\n",
       "    }\n",
       "</style>\n",
       "<table border=\"1\" class=\"dataframe\">\n",
       "  <thead>\n",
       "    <tr style=\"text-align: right;\">\n",
       "      <th></th>\n",
       "      <th>labels[0]</th>\n",
       "      <th>labels[1]</th>\n",
       "    </tr>\n",
       "  </thead>\n",
       "  <tbody>\n",
       "    <tr>\n",
       "      <th>0</th>\n",
       "      <td>17.067721</td>\n",
       "      <td>True</td>\n",
       "    </tr>\n",
       "    <tr>\n",
       "      <th>1</th>\n",
       "      <td>19.099475</td>\n",
       "      <td>True</td>\n",
       "    </tr>\n",
       "    <tr>\n",
       "      <th>2</th>\n",
       "      <td>29.292850</td>\n",
       "      <td>True</td>\n",
       "    </tr>\n",
       "    <tr>\n",
       "      <th>3</th>\n",
       "      <td>26.855777</td>\n",
       "      <td>True</td>\n",
       "    </tr>\n",
       "    <tr>\n",
       "      <th>4</th>\n",
       "      <td>12.780246</td>\n",
       "      <td>True</td>\n",
       "    </tr>\n",
       "    <tr>\n",
       "      <th>...</th>\n",
       "      <td>...</td>\n",
       "      <td>...</td>\n",
       "    </tr>\n",
       "    <tr>\n",
       "      <th>95</th>\n",
       "      <td>16.127008</td>\n",
       "      <td>True</td>\n",
       "    </tr>\n",
       "    <tr>\n",
       "      <th>96</th>\n",
       "      <td>23.956644</td>\n",
       "      <td>True</td>\n",
       "    </tr>\n",
       "    <tr>\n",
       "      <th>97</th>\n",
       "      <td>15.812641</td>\n",
       "      <td>True</td>\n",
       "    </tr>\n",
       "    <tr>\n",
       "      <th>98</th>\n",
       "      <td>26.981019</td>\n",
       "      <td>True</td>\n",
       "    </tr>\n",
       "    <tr>\n",
       "      <th>99</th>\n",
       "      <td>21.209464</td>\n",
       "      <td>True</td>\n",
       "    </tr>\n",
       "  </tbody>\n",
       "</table>\n",
       "<p>100 rows × 2 columns</p>\n",
       "</div>"
      ]
     },
     "execution_count": 12,
     "metadata": {},
     "output_type": "execute_result"
    }
   ],
   "execution_count": 12
  },
  {
   "cell_type": "code",
   "source": [
    "df.mean()\n"
   ],
   "metadata": {
    "colab": {
     "base_uri": "https://localhost:8080/"
    },
    "id": "H_r_LXST4gOc",
    "executionInfo": {
     "status": "ok",
     "timestamp": 1707061924223,
     "user_tz": 0,
     "elapsed": 243,
     "user": {
      "displayName": "malvina marchese",
      "userId": "02113412455032806183"
     }
    },
    "outputId": "a9ec6942-5b99-4306-cad8-e7a41192898b",
    "ExecuteTime": {
     "end_time": "2025-02-03T09:49:31.144763Z",
     "start_time": "2025-02-03T09:49:31.122252Z"
    }
   },
   "outputs": [
    {
     "data": {
      "text/plain": [
       "labels[0]    20.031748\n",
       "labels[1]     1.000000\n",
       "dtype: float64"
      ]
     },
     "execution_count": 13,
     "metadata": {},
     "output_type": "execute_result"
    }
   ],
   "execution_count": 13
  },
  {
   "cell_type": "code",
   "source": [
    "dfnew = pd.DataFrame({'a':[1, 2, 3, 4, 5],\n",
    "                     'b': [6, 7, 8, 9, 10],\n",
    "                     'c': [11,12, 13, 14, 15],\n",
    "                     'd': [16,17,19,19,20]},\n",
    "           index=[1,2,3,4,5])\n",
    "#with this syntax I am specifying columns"
   ],
   "metadata": {
    "id": "h4975ihN7HSX",
    "executionInfo": {
     "status": "ok",
     "timestamp": 1707061928957,
     "user_tz": 0,
     "elapsed": 254,
     "user": {
      "displayName": "malvina marchese",
      "userId": "02113412455032806183"
     }
    }
   },
   "execution_count": 11,
   "outputs": []
  },
  {
   "cell_type": "code",
   "source": [
    "dfnew2=pd.DataFrame(\n",
    "    [[1, 2, 3, 4, 5],\n",
    "    [6, 7, 8, 9, 10],\n",
    "    [11,12, 13, 14, 15],\n",
    "    [16,17,19,19,20]],\n",
    "    index=[1,2,3,4],\n",
    "    columns=[\"a\",\"b\",\"c\",\"d\",\"e\"])\n",
    "#with this syntax i specify rows"
   ],
   "metadata": {
    "id": "qMKEKQ807ToD",
    "executionInfo": {
     "status": "ok",
     "timestamp": 1707061936401,
     "user_tz": 0,
     "elapsed": 247,
     "user": {
      "displayName": "malvina marchese",
      "userId": "02113412455032806183"
     }
    }
   },
   "execution_count": 12,
   "outputs": []
  },
  {
   "cell_type": "code",
   "source": [
    "dfnew.mean()"
   ],
   "metadata": {
    "id": "OWW5wYXZ0DSC"
   },
   "execution_count": null,
   "outputs": []
  },
  {
   "cell_type": "code",
   "source": [
    "dfnew2"
   ],
   "metadata": {
    "id": "kbOTBFIqkSBe"
   },
   "execution_count": null,
   "outputs": []
  },
  {
   "cell_type": "code",
   "source": [
    "dfnnewbad= pd.DataFrame({'x': [1, 2, 3, 4, 5],\n",
    "                   'y': [6, 7, 8, 9, 10],\n",
    "                   'z': [11,12, 13, 14, 15],\n",
    "                   'w': [16,17,19,19,20]})\n"
   ],
   "metadata": {
    "id": "24GYpcOghhWR",
    "executionInfo": {
     "status": "ok",
     "timestamp": 1707046650982,
     "user_tz": 0,
     "elapsed": 2,
     "user": {
      "displayName": "malvina marchese",
      "userId": "02113412455032806183"
     }
    }
   },
   "execution_count": 92,
   "outputs": []
  },
  {
   "cell_type": "code",
   "source": [
    "dfnnewbad"
   ],
   "metadata": {
    "id": "WwChzlfVjGqf"
   },
   "execution_count": null,
   "outputs": []
  },
  {
   "cell_type": "code",
   "source": [
    "dfnew"
   ],
   "metadata": {
    "id": "F6IJ_YS0sDzN"
   },
   "execution_count": null,
   "outputs": []
  },
  {
   "cell_type": "code",
   "source": [
    "dfnew.iloc[1]\n",
    "#here I am selecting the second row of the dataframe called dfnew\n",
    "type(dfnew.iloc[1])\n",
    "#you can see that the result is still a dataframe\n",
    "dfnew.iloc[0]"
   ],
   "metadata": {
    "id": "aY1bX9llsG54"
   },
   "execution_count": null,
   "outputs": []
  },
  {
   "cell_type": "code",
   "source": [
    "dfnew.iloc[:,2]\n",
    "#here I am selecting all rows so : , and the third column"
   ],
   "metadata": {
    "id": "6W4xKsj9tNxm"
   },
   "execution_count": null,
   "outputs": []
  },
  {
   "cell_type": "code",
   "source": [
    "dfnew.iloc[:, 0:2]\n",
    "#here I am selecting all rows and  colums zero to two, but the column two ( which for us is called colum c) is excluded"
   ],
   "metadata": {
    "id": "LZK9AjFItkq0"
   },
   "execution_count": null,
   "outputs": []
  },
  {
   "cell_type": "code",
   "source": [
    "dfnew.iloc[0:3,:]"
   ],
   "metadata": {
    "id": "lzpFGop6vM84"
   },
   "execution_count": null,
   "outputs": []
  },
  {
   "cell_type": "code",
   "source": [
    "dfnew.iloc[1:2]"
   ],
   "metadata": {
    "id": "otdDg0cGvcGr"
   },
   "execution_count": null,
   "outputs": []
  },
  {
   "cell_type": "code",
   "source": [
    "dfnew.iloc[:,1]"
   ],
   "metadata": {
    "id": "BRJCRyqYviqP"
   },
   "execution_count": null,
   "outputs": []
  },
  {
   "cell_type": "code",
   "source": [
    "dfnew.iloc[:,1::]\n",
    "#this is a different syntax, which is preserving the names of the column"
   ],
   "metadata": {
    "id": "IEMwWLc3uBKj"
   },
   "execution_count": null,
   "outputs": []
  },
  {
   "cell_type": "code",
   "source": [
    "dfnew.iloc[:,1:2]\n",
    "dfnew.iloc[1:2]"
   ],
   "metadata": {
    "id": "n8ojgKItxuQ-"
   },
   "execution_count": null,
   "outputs": []
  },
  {
   "cell_type": "code",
   "source": [
    "dfnew.head(2)\n",
    "#show the first 2 rows"
   ],
   "metadata": {
    "id": "n-KYqwkPxnj2"
   },
   "execution_count": null,
   "outputs": []
  },
  {
   "cell_type": "code",
   "source": [
    "dfnew.tail(2)\n",
    "#shows the last 2 rows\n"
   ],
   "metadata": {
    "id": "ZVWUmise7NWz"
   },
   "execution_count": null,
   "outputs": []
  },
  {
   "cell_type": "code",
   "source": [
    "pd.melt(dfnew)\n",
    "#melt columninto rows\n"
   ],
   "metadata": {
    "id": "IEwquXjwgjGV"
   },
   "execution_count": null,
   "outputs": []
  },
  {
   "cell_type": "code",
   "source": [
    "\n",
    "newframe=pd.concat([dfnew,dfnew2])\n",
    "newframe\n",
    "#here concatenation is by rows , if dimensions are not compatible"
   ],
   "metadata": {
    "id": "8bpfiV9n7nZ8"
   },
   "execution_count": null,
   "outputs": []
  },
  {
   "cell_type": "code",
   "source": [
    "pd.concat([dfnew,dfnew2], axis=1)\n",
    "#here concatenation is by columns"
   ],
   "metadata": {
    "id": "esUsSqNG70ik"
   },
   "execution_count": null,
   "outputs": []
  },
  {
   "cell_type": "code",
   "source": [
    "dfnew.sample(n=3)\n",
    "#randomly selects 3 rows"
   ],
   "metadata": {
    "id": "JU3GSus00sLu"
   },
   "execution_count": null,
   "outputs": []
  },
  {
   "cell_type": "code",
   "source": [
    "dfnew.nlargest(2, \"a\")"
   ],
   "metadata": {
    "colab": {
     "base_uri": "https://localhost:8080/",
     "height": 112
    },
    "id": "ATbsZTNp1-ZQ",
    "executionInfo": {
     "status": "ok",
     "timestamp": 1707062381811,
     "user_tz": 0,
     "elapsed": 233,
     "user": {
      "displayName": "malvina marchese",
      "userId": "02113412455032806183"
     }
    },
    "outputId": "de4f7685-4469-4b1d-90b0-752513100df9"
   },
   "execution_count": 18,
   "outputs": [
    {
     "output_type": "execute_result",
     "data": {
      "text/plain": [
       "   a   b   c   d\n",
       "5  5  10  15  20\n",
       "4  4   9  14  19"
      ],
      "text/html": [
       "\n",
       "  <div id=\"df-e268249f-0b8c-46b4-a745-32d3e950b3c9\" class=\"colab-df-container\">\n",
       "    <div>\n",
       "<style scoped>\n",
       "    .dataframe tbody tr th:only-of-type {\n",
       "        vertical-align: middle;\n",
       "    }\n",
       "\n",
       "    .dataframe tbody tr th {\n",
       "        vertical-align: top;\n",
       "    }\n",
       "\n",
       "    .dataframe thead th {\n",
       "        text-align: right;\n",
       "    }\n",
       "</style>\n",
       "<table border=\"1\" class=\"dataframe\">\n",
       "  <thead>\n",
       "    <tr style=\"text-align: right;\">\n",
       "      <th></th>\n",
       "      <th>a</th>\n",
       "      <th>b</th>\n",
       "      <th>c</th>\n",
       "      <th>d</th>\n",
       "    </tr>\n",
       "  </thead>\n",
       "  <tbody>\n",
       "    <tr>\n",
       "      <th>5</th>\n",
       "      <td>5</td>\n",
       "      <td>10</td>\n",
       "      <td>15</td>\n",
       "      <td>20</td>\n",
       "    </tr>\n",
       "    <tr>\n",
       "      <th>4</th>\n",
       "      <td>4</td>\n",
       "      <td>9</td>\n",
       "      <td>14</td>\n",
       "      <td>19</td>\n",
       "    </tr>\n",
       "  </tbody>\n",
       "</table>\n",
       "</div>\n",
       "    <div class=\"colab-df-buttons\">\n",
       "\n",
       "  <div class=\"colab-df-container\">\n",
       "    <button class=\"colab-df-convert\" onclick=\"convertToInteractive('df-e268249f-0b8c-46b4-a745-32d3e950b3c9')\"\n",
       "            title=\"Convert this dataframe to an interactive table.\"\n",
       "            style=\"display:none;\">\n",
       "\n",
       "  <svg xmlns=\"http://www.w3.org/2000/svg\" height=\"24px\" viewBox=\"0 -960 960 960\">\n",
       "    <path d=\"M120-120v-720h720v720H120Zm60-500h600v-160H180v160Zm220 220h160v-160H400v160Zm0 220h160v-160H400v160ZM180-400h160v-160H180v160Zm440 0h160v-160H620v160ZM180-180h160v-160H180v160Zm440 0h160v-160H620v160Z\"/>\n",
       "  </svg>\n",
       "    </button>\n",
       "\n",
       "  <style>\n",
       "    .colab-df-container {\n",
       "      display:flex;\n",
       "      gap: 12px;\n",
       "    }\n",
       "\n",
       "    .colab-df-convert {\n",
       "      background-color: #E8F0FE;\n",
       "      border: none;\n",
       "      border-radius: 50%;\n",
       "      cursor: pointer;\n",
       "      display: none;\n",
       "      fill: #1967D2;\n",
       "      height: 32px;\n",
       "      padding: 0 0 0 0;\n",
       "      width: 32px;\n",
       "    }\n",
       "\n",
       "    .colab-df-convert:hover {\n",
       "      background-color: #E2EBFA;\n",
       "      box-shadow: 0px 1px 2px rgba(60, 64, 67, 0.3), 0px 1px 3px 1px rgba(60, 64, 67, 0.15);\n",
       "      fill: #174EA6;\n",
       "    }\n",
       "\n",
       "    .colab-df-buttons div {\n",
       "      margin-bottom: 4px;\n",
       "    }\n",
       "\n",
       "    [theme=dark] .colab-df-convert {\n",
       "      background-color: #3B4455;\n",
       "      fill: #D2E3FC;\n",
       "    }\n",
       "\n",
       "    [theme=dark] .colab-df-convert:hover {\n",
       "      background-color: #434B5C;\n",
       "      box-shadow: 0px 1px 3px 1px rgba(0, 0, 0, 0.15);\n",
       "      filter: drop-shadow(0px 1px 2px rgba(0, 0, 0, 0.3));\n",
       "      fill: #FFFFFF;\n",
       "    }\n",
       "  </style>\n",
       "\n",
       "    <script>\n",
       "      const buttonEl =\n",
       "        document.querySelector('#df-e268249f-0b8c-46b4-a745-32d3e950b3c9 button.colab-df-convert');\n",
       "      buttonEl.style.display =\n",
       "        google.colab.kernel.accessAllowed ? 'block' : 'none';\n",
       "\n",
       "      async function convertToInteractive(key) {\n",
       "        const element = document.querySelector('#df-e268249f-0b8c-46b4-a745-32d3e950b3c9');\n",
       "        const dataTable =\n",
       "          await google.colab.kernel.invokeFunction('convertToInteractive',\n",
       "                                                    [key], {});\n",
       "        if (!dataTable) return;\n",
       "\n",
       "        const docLinkHtml = 'Like what you see? Visit the ' +\n",
       "          '<a target=\"_blank\" href=https://colab.research.google.com/notebooks/data_table.ipynb>data table notebook</a>'\n",
       "          + ' to learn more about interactive tables.';\n",
       "        element.innerHTML = '';\n",
       "        dataTable['output_type'] = 'display_data';\n",
       "        await google.colab.output.renderOutput(dataTable, element);\n",
       "        const docLink = document.createElement('div');\n",
       "        docLink.innerHTML = docLinkHtml;\n",
       "        element.appendChild(docLink);\n",
       "      }\n",
       "    </script>\n",
       "  </div>\n",
       "\n",
       "\n",
       "<div id=\"df-b03c10e5-eb66-468d-b59d-accb8ee3e1f1\">\n",
       "  <button class=\"colab-df-quickchart\" onclick=\"quickchart('df-b03c10e5-eb66-468d-b59d-accb8ee3e1f1')\"\n",
       "            title=\"Suggest charts\"\n",
       "            style=\"display:none;\">\n",
       "\n",
       "<svg xmlns=\"http://www.w3.org/2000/svg\" height=\"24px\"viewBox=\"0 0 24 24\"\n",
       "     width=\"24px\">\n",
       "    <g>\n",
       "        <path d=\"M19 3H5c-1.1 0-2 .9-2 2v14c0 1.1.9 2 2 2h14c1.1 0 2-.9 2-2V5c0-1.1-.9-2-2-2zM9 17H7v-7h2v7zm4 0h-2V7h2v10zm4 0h-2v-4h2v4z\"/>\n",
       "    </g>\n",
       "</svg>\n",
       "  </button>\n",
       "\n",
       "<style>\n",
       "  .colab-df-quickchart {\n",
       "      --bg-color: #E8F0FE;\n",
       "      --fill-color: #1967D2;\n",
       "      --hover-bg-color: #E2EBFA;\n",
       "      --hover-fill-color: #174EA6;\n",
       "      --disabled-fill-color: #AAA;\n",
       "      --disabled-bg-color: #DDD;\n",
       "  }\n",
       "\n",
       "  [theme=dark] .colab-df-quickchart {\n",
       "      --bg-color: #3B4455;\n",
       "      --fill-color: #D2E3FC;\n",
       "      --hover-bg-color: #434B5C;\n",
       "      --hover-fill-color: #FFFFFF;\n",
       "      --disabled-bg-color: #3B4455;\n",
       "      --disabled-fill-color: #666;\n",
       "  }\n",
       "\n",
       "  .colab-df-quickchart {\n",
       "    background-color: var(--bg-color);\n",
       "    border: none;\n",
       "    border-radius: 50%;\n",
       "    cursor: pointer;\n",
       "    display: none;\n",
       "    fill: var(--fill-color);\n",
       "    height: 32px;\n",
       "    padding: 0;\n",
       "    width: 32px;\n",
       "  }\n",
       "\n",
       "  .colab-df-quickchart:hover {\n",
       "    background-color: var(--hover-bg-color);\n",
       "    box-shadow: 0 1px 2px rgba(60, 64, 67, 0.3), 0 1px 3px 1px rgba(60, 64, 67, 0.15);\n",
       "    fill: var(--button-hover-fill-color);\n",
       "  }\n",
       "\n",
       "  .colab-df-quickchart-complete:disabled,\n",
       "  .colab-df-quickchart-complete:disabled:hover {\n",
       "    background-color: var(--disabled-bg-color);\n",
       "    fill: var(--disabled-fill-color);\n",
       "    box-shadow: none;\n",
       "  }\n",
       "\n",
       "  .colab-df-spinner {\n",
       "    border: 2px solid var(--fill-color);\n",
       "    border-color: transparent;\n",
       "    border-bottom-color: var(--fill-color);\n",
       "    animation:\n",
       "      spin 1s steps(1) infinite;\n",
       "  }\n",
       "\n",
       "  @keyframes spin {\n",
       "    0% {\n",
       "      border-color: transparent;\n",
       "      border-bottom-color: var(--fill-color);\n",
       "      border-left-color: var(--fill-color);\n",
       "    }\n",
       "    20% {\n",
       "      border-color: transparent;\n",
       "      border-left-color: var(--fill-color);\n",
       "      border-top-color: var(--fill-color);\n",
       "    }\n",
       "    30% {\n",
       "      border-color: transparent;\n",
       "      border-left-color: var(--fill-color);\n",
       "      border-top-color: var(--fill-color);\n",
       "      border-right-color: var(--fill-color);\n",
       "    }\n",
       "    40% {\n",
       "      border-color: transparent;\n",
       "      border-right-color: var(--fill-color);\n",
       "      border-top-color: var(--fill-color);\n",
       "    }\n",
       "    60% {\n",
       "      border-color: transparent;\n",
       "      border-right-color: var(--fill-color);\n",
       "    }\n",
       "    80% {\n",
       "      border-color: transparent;\n",
       "      border-right-color: var(--fill-color);\n",
       "      border-bottom-color: var(--fill-color);\n",
       "    }\n",
       "    90% {\n",
       "      border-color: transparent;\n",
       "      border-bottom-color: var(--fill-color);\n",
       "    }\n",
       "  }\n",
       "</style>\n",
       "\n",
       "  <script>\n",
       "    async function quickchart(key) {\n",
       "      const quickchartButtonEl =\n",
       "        document.querySelector('#' + key + ' button');\n",
       "      quickchartButtonEl.disabled = true;  // To prevent multiple clicks.\n",
       "      quickchartButtonEl.classList.add('colab-df-spinner');\n",
       "      try {\n",
       "        const charts = await google.colab.kernel.invokeFunction(\n",
       "            'suggestCharts', [key], {});\n",
       "      } catch (error) {\n",
       "        console.error('Error during call to suggestCharts:', error);\n",
       "      }\n",
       "      quickchartButtonEl.classList.remove('colab-df-spinner');\n",
       "      quickchartButtonEl.classList.add('colab-df-quickchart-complete');\n",
       "    }\n",
       "    (() => {\n",
       "      let quickchartButtonEl =\n",
       "        document.querySelector('#df-b03c10e5-eb66-468d-b59d-accb8ee3e1f1 button');\n",
       "      quickchartButtonEl.style.display =\n",
       "        google.colab.kernel.accessAllowed ? 'block' : 'none';\n",
       "    })();\n",
       "  </script>\n",
       "</div>\n",
       "    </div>\n",
       "  </div>\n"
      ]
     },
     "metadata": {},
     "execution_count": 18
    }
   ]
  },
  {
   "cell_type": "code",
   "source": [
    "dfnew"
   ],
   "metadata": {
    "colab": {
     "base_uri": "https://localhost:8080/",
     "height": 206
    },
    "id": "ei2z3A0_2Ulh",
    "executionInfo": {
     "status": "ok",
     "timestamp": 1707062777711,
     "user_tz": 0,
     "elapsed": 396,
     "user": {
      "displayName": "malvina marchese",
      "userId": "02113412455032806183"
     }
    },
    "outputId": "0d93e0c3-3e6c-41bd-e921-5d78c1f4ae69"
   },
   "execution_count": 21,
   "outputs": [
    {
     "output_type": "execute_result",
     "data": {
      "text/plain": [
       "   a   b   c   d\n",
       "1  1   6  11  16\n",
       "2  2   7  12  17\n",
       "3  3   8  13  19\n",
       "4  4   9  14  19\n",
       "5  5  10  15  20"
      ],
      "text/html": [
       "\n",
       "  <div id=\"df-b01a0787-c3cb-48a2-8ea9-f61e7e748952\" class=\"colab-df-container\">\n",
       "    <div>\n",
       "<style scoped>\n",
       "    .dataframe tbody tr th:only-of-type {\n",
       "        vertical-align: middle;\n",
       "    }\n",
       "\n",
       "    .dataframe tbody tr th {\n",
       "        vertical-align: top;\n",
       "    }\n",
       "\n",
       "    .dataframe thead th {\n",
       "        text-align: right;\n",
       "    }\n",
       "</style>\n",
       "<table border=\"1\" class=\"dataframe\">\n",
       "  <thead>\n",
       "    <tr style=\"text-align: right;\">\n",
       "      <th></th>\n",
       "      <th>a</th>\n",
       "      <th>b</th>\n",
       "      <th>c</th>\n",
       "      <th>d</th>\n",
       "    </tr>\n",
       "  </thead>\n",
       "  <tbody>\n",
       "    <tr>\n",
       "      <th>1</th>\n",
       "      <td>1</td>\n",
       "      <td>6</td>\n",
       "      <td>11</td>\n",
       "      <td>16</td>\n",
       "    </tr>\n",
       "    <tr>\n",
       "      <th>2</th>\n",
       "      <td>2</td>\n",
       "      <td>7</td>\n",
       "      <td>12</td>\n",
       "      <td>17</td>\n",
       "    </tr>\n",
       "    <tr>\n",
       "      <th>3</th>\n",
       "      <td>3</td>\n",
       "      <td>8</td>\n",
       "      <td>13</td>\n",
       "      <td>19</td>\n",
       "    </tr>\n",
       "    <tr>\n",
       "      <th>4</th>\n",
       "      <td>4</td>\n",
       "      <td>9</td>\n",
       "      <td>14</td>\n",
       "      <td>19</td>\n",
       "    </tr>\n",
       "    <tr>\n",
       "      <th>5</th>\n",
       "      <td>5</td>\n",
       "      <td>10</td>\n",
       "      <td>15</td>\n",
       "      <td>20</td>\n",
       "    </tr>\n",
       "  </tbody>\n",
       "</table>\n",
       "</div>\n",
       "    <div class=\"colab-df-buttons\">\n",
       "\n",
       "  <div class=\"colab-df-container\">\n",
       "    <button class=\"colab-df-convert\" onclick=\"convertToInteractive('df-b01a0787-c3cb-48a2-8ea9-f61e7e748952')\"\n",
       "            title=\"Convert this dataframe to an interactive table.\"\n",
       "            style=\"display:none;\">\n",
       "\n",
       "  <svg xmlns=\"http://www.w3.org/2000/svg\" height=\"24px\" viewBox=\"0 -960 960 960\">\n",
       "    <path d=\"M120-120v-720h720v720H120Zm60-500h600v-160H180v160Zm220 220h160v-160H400v160Zm0 220h160v-160H400v160ZM180-400h160v-160H180v160Zm440 0h160v-160H620v160ZM180-180h160v-160H180v160Zm440 0h160v-160H620v160Z\"/>\n",
       "  </svg>\n",
       "    </button>\n",
       "\n",
       "  <style>\n",
       "    .colab-df-container {\n",
       "      display:flex;\n",
       "      gap: 12px;\n",
       "    }\n",
       "\n",
       "    .colab-df-convert {\n",
       "      background-color: #E8F0FE;\n",
       "      border: none;\n",
       "      border-radius: 50%;\n",
       "      cursor: pointer;\n",
       "      display: none;\n",
       "      fill: #1967D2;\n",
       "      height: 32px;\n",
       "      padding: 0 0 0 0;\n",
       "      width: 32px;\n",
       "    }\n",
       "\n",
       "    .colab-df-convert:hover {\n",
       "      background-color: #E2EBFA;\n",
       "      box-shadow: 0px 1px 2px rgba(60, 64, 67, 0.3), 0px 1px 3px 1px rgba(60, 64, 67, 0.15);\n",
       "      fill: #174EA6;\n",
       "    }\n",
       "\n",
       "    .colab-df-buttons div {\n",
       "      margin-bottom: 4px;\n",
       "    }\n",
       "\n",
       "    [theme=dark] .colab-df-convert {\n",
       "      background-color: #3B4455;\n",
       "      fill: #D2E3FC;\n",
       "    }\n",
       "\n",
       "    [theme=dark] .colab-df-convert:hover {\n",
       "      background-color: #434B5C;\n",
       "      box-shadow: 0px 1px 3px 1px rgba(0, 0, 0, 0.15);\n",
       "      filter: drop-shadow(0px 1px 2px rgba(0, 0, 0, 0.3));\n",
       "      fill: #FFFFFF;\n",
       "    }\n",
       "  </style>\n",
       "\n",
       "    <script>\n",
       "      const buttonEl =\n",
       "        document.querySelector('#df-b01a0787-c3cb-48a2-8ea9-f61e7e748952 button.colab-df-convert');\n",
       "      buttonEl.style.display =\n",
       "        google.colab.kernel.accessAllowed ? 'block' : 'none';\n",
       "\n",
       "      async function convertToInteractive(key) {\n",
       "        const element = document.querySelector('#df-b01a0787-c3cb-48a2-8ea9-f61e7e748952');\n",
       "        const dataTable =\n",
       "          await google.colab.kernel.invokeFunction('convertToInteractive',\n",
       "                                                    [key], {});\n",
       "        if (!dataTable) return;\n",
       "\n",
       "        const docLinkHtml = 'Like what you see? Visit the ' +\n",
       "          '<a target=\"_blank\" href=https://colab.research.google.com/notebooks/data_table.ipynb>data table notebook</a>'\n",
       "          + ' to learn more about interactive tables.';\n",
       "        element.innerHTML = '';\n",
       "        dataTable['output_type'] = 'display_data';\n",
       "        await google.colab.output.renderOutput(dataTable, element);\n",
       "        const docLink = document.createElement('div');\n",
       "        docLink.innerHTML = docLinkHtml;\n",
       "        element.appendChild(docLink);\n",
       "      }\n",
       "    </script>\n",
       "  </div>\n",
       "\n",
       "\n",
       "<div id=\"df-52a8d24c-2d7a-467f-ab11-c03bba259f16\">\n",
       "  <button class=\"colab-df-quickchart\" onclick=\"quickchart('df-52a8d24c-2d7a-467f-ab11-c03bba259f16')\"\n",
       "            title=\"Suggest charts\"\n",
       "            style=\"display:none;\">\n",
       "\n",
       "<svg xmlns=\"http://www.w3.org/2000/svg\" height=\"24px\"viewBox=\"0 0 24 24\"\n",
       "     width=\"24px\">\n",
       "    <g>\n",
       "        <path d=\"M19 3H5c-1.1 0-2 .9-2 2v14c0 1.1.9 2 2 2h14c1.1 0 2-.9 2-2V5c0-1.1-.9-2-2-2zM9 17H7v-7h2v7zm4 0h-2V7h2v10zm4 0h-2v-4h2v4z\"/>\n",
       "    </g>\n",
       "</svg>\n",
       "  </button>\n",
       "\n",
       "<style>\n",
       "  .colab-df-quickchart {\n",
       "      --bg-color: #E8F0FE;\n",
       "      --fill-color: #1967D2;\n",
       "      --hover-bg-color: #E2EBFA;\n",
       "      --hover-fill-color: #174EA6;\n",
       "      --disabled-fill-color: #AAA;\n",
       "      --disabled-bg-color: #DDD;\n",
       "  }\n",
       "\n",
       "  [theme=dark] .colab-df-quickchart {\n",
       "      --bg-color: #3B4455;\n",
       "      --fill-color: #D2E3FC;\n",
       "      --hover-bg-color: #434B5C;\n",
       "      --hover-fill-color: #FFFFFF;\n",
       "      --disabled-bg-color: #3B4455;\n",
       "      --disabled-fill-color: #666;\n",
       "  }\n",
       "\n",
       "  .colab-df-quickchart {\n",
       "    background-color: var(--bg-color);\n",
       "    border: none;\n",
       "    border-radius: 50%;\n",
       "    cursor: pointer;\n",
       "    display: none;\n",
       "    fill: var(--fill-color);\n",
       "    height: 32px;\n",
       "    padding: 0;\n",
       "    width: 32px;\n",
       "  }\n",
       "\n",
       "  .colab-df-quickchart:hover {\n",
       "    background-color: var(--hover-bg-color);\n",
       "    box-shadow: 0 1px 2px rgba(60, 64, 67, 0.3), 0 1px 3px 1px rgba(60, 64, 67, 0.15);\n",
       "    fill: var(--button-hover-fill-color);\n",
       "  }\n",
       "\n",
       "  .colab-df-quickchart-complete:disabled,\n",
       "  .colab-df-quickchart-complete:disabled:hover {\n",
       "    background-color: var(--disabled-bg-color);\n",
       "    fill: var(--disabled-fill-color);\n",
       "    box-shadow: none;\n",
       "  }\n",
       "\n",
       "  .colab-df-spinner {\n",
       "    border: 2px solid var(--fill-color);\n",
       "    border-color: transparent;\n",
       "    border-bottom-color: var(--fill-color);\n",
       "    animation:\n",
       "      spin 1s steps(1) infinite;\n",
       "  }\n",
       "\n",
       "  @keyframes spin {\n",
       "    0% {\n",
       "      border-color: transparent;\n",
       "      border-bottom-color: var(--fill-color);\n",
       "      border-left-color: var(--fill-color);\n",
       "    }\n",
       "    20% {\n",
       "      border-color: transparent;\n",
       "      border-left-color: var(--fill-color);\n",
       "      border-top-color: var(--fill-color);\n",
       "    }\n",
       "    30% {\n",
       "      border-color: transparent;\n",
       "      border-left-color: var(--fill-color);\n",
       "      border-top-color: var(--fill-color);\n",
       "      border-right-color: var(--fill-color);\n",
       "    }\n",
       "    40% {\n",
       "      border-color: transparent;\n",
       "      border-right-color: var(--fill-color);\n",
       "      border-top-color: var(--fill-color);\n",
       "    }\n",
       "    60% {\n",
       "      border-color: transparent;\n",
       "      border-right-color: var(--fill-color);\n",
       "    }\n",
       "    80% {\n",
       "      border-color: transparent;\n",
       "      border-right-color: var(--fill-color);\n",
       "      border-bottom-color: var(--fill-color);\n",
       "    }\n",
       "    90% {\n",
       "      border-color: transparent;\n",
       "      border-bottom-color: var(--fill-color);\n",
       "    }\n",
       "  }\n",
       "</style>\n",
       "\n",
       "  <script>\n",
       "    async function quickchart(key) {\n",
       "      const quickchartButtonEl =\n",
       "        document.querySelector('#' + key + ' button');\n",
       "      quickchartButtonEl.disabled = true;  // To prevent multiple clicks.\n",
       "      quickchartButtonEl.classList.add('colab-df-spinner');\n",
       "      try {\n",
       "        const charts = await google.colab.kernel.invokeFunction(\n",
       "            'suggestCharts', [key], {});\n",
       "      } catch (error) {\n",
       "        console.error('Error during call to suggestCharts:', error);\n",
       "      }\n",
       "      quickchartButtonEl.classList.remove('colab-df-spinner');\n",
       "      quickchartButtonEl.classList.add('colab-df-quickchart-complete');\n",
       "    }\n",
       "    (() => {\n",
       "      let quickchartButtonEl =\n",
       "        document.querySelector('#df-52a8d24c-2d7a-467f-ab11-c03bba259f16 button');\n",
       "      quickchartButtonEl.style.display =\n",
       "        google.colab.kernel.accessAllowed ? 'block' : 'none';\n",
       "    })();\n",
       "  </script>\n",
       "</div>\n",
       "    </div>\n",
       "  </div>\n"
      ]
     },
     "metadata": {},
     "execution_count": 21
    }
   ]
  },
  {
   "cell_type": "code",
   "source": [
    "#example of selection with logical operators\n",
    "startpoint=\"b\"\n",
    "endpoint=\"c\"\n",
    "dflast= dfnew.loc[:,(dfnew.columns>=startpoint)&(dfnew.columns<=endpoint)]"
   ],
   "metadata": {
    "id": "_hr1vFWW26SV",
    "executionInfo": {
     "status": "ok",
     "timestamp": 1707063693592,
     "user_tz": 0,
     "elapsed": 314,
     "user": {
      "displayName": "malvina marchese",
      "userId": "02113412455032806183"
     }
    }
   },
   "execution_count": 28,
   "outputs": []
  },
  {
   "cell_type": "code",
   "source": [
    "dflast"
   ],
   "metadata": {
    "id": "VdMqn4ko667m"
   },
   "execution_count": null,
   "outputs": []
  },
  {
   "cell_type": "code",
   "source": [
    "#now I am going to import some data which I saved on my one drive so first I connect my Coolab to my one drive\n",
    "from google.colab import drive\n",
    "drive.mount('/content/drive')\n"
   ],
   "metadata": {
    "colab": {
     "base_uri": "https://localhost:8080/"
    },
    "id": "YVMiurhU7Ohr",
    "executionInfo": {
     "status": "ok",
     "timestamp": 1707065012409,
     "user_tz": 0,
     "elapsed": 22855,
     "user": {
      "displayName": "malvina marchese",
      "userId": "02113412455032806183"
     }
    },
    "outputId": "97335fee-0d68-4a1d-e3c3-3e036fbb3042"
   },
   "execution_count": 29,
   "outputs": [
    {
     "output_type": "stream",
     "name": "stdout",
     "text": [
      "Mounted at /content/drive\n"
     ]
    }
   ]
  },
  {
   "cell_type": "code",
   "source": [
    "dfexample= pd.read_excel(\"/content/drive/MyDrive/datamalvina/week1.xlsx\")"
   ],
   "metadata": {
    "id": "aLN4NX2BAQX1",
    "executionInfo": {
     "status": "ok",
     "timestamp": 1707066342132,
     "user_tz": 0,
     "elapsed": 634,
     "user": {
      "displayName": "malvina marchese",
      "userId": "02113412455032806183"
     }
    }
   },
   "execution_count": 38,
   "outputs": []
  },
  {
   "cell_type": "code",
   "source": [
    "\n",
    "dfexample.head(5)"
   ],
   "metadata": {
    "id": "f7hVa__pFWiM"
   },
   "execution_count": null,
   "outputs": []
  },
  {
   "cell_type": "code",
   "source": [
    "dfexample2= dfexample.rename(columns={\"Unnamed: 0\" : 'Date'})\n",
    "#here it is space sensitive\n",
    "dfexample2"
   ],
   "metadata": {
    "colab": {
     "base_uri": "https://localhost:8080/",
     "height": 423
    },
    "id": "mltmUr_IG2NJ",
    "executionInfo": {
     "status": "ok",
     "timestamp": 1707067627473,
     "user_tz": 0,
     "elapsed": 252,
     "user": {
      "displayName": "malvina marchese",
      "userId": "02113412455032806183"
     }
    },
    "outputId": "cf951f94-efee-40b6-d3d0-feba0c66c815"
   },
   "execution_count": 58,
   "outputs": [
    {
     "output_type": "execute_result",
     "data": {
      "text/plain": [
       "          Date      GDP     PCE     Inv       G\n",
       "0   1980-03-01   5903.4  3796.7   778.3  1365.4\n",
       "1   1980-06-01   5782.4  3710.5   708.1  1369.7\n",
       "2   1980-09-01   5771.7  3750.3   654.1  1350.8\n",
       "3   1980-12-01   5878.4  3800.3   720.6  1349.4\n",
       "4   1981-03-01   6000.6  3821.1   792.2  1367.3\n",
       "..         ...      ...     ...     ...     ...\n",
       "124 2011-03-01  13227.9  9376.7  1750.9  2513.9\n",
       "125 2011-06-01  13271.8  9392.7  1778.4  2508.2\n",
       "126 2011-09-01  13331.6  9433.5  1784.2  2507.6\n",
       "127 2011-12-01  13429.0  9482.1  1875.7  2481.2\n",
       "128 2012-03-01  13502.4  9550.2  1903.0  2462.2\n",
       "\n",
       "[129 rows x 5 columns]"
      ],
      "text/html": [
       "\n",
       "  <div id=\"df-6188149c-87d2-4074-91e3-e0a6b05f4fb7\" class=\"colab-df-container\">\n",
       "    <div>\n",
       "<style scoped>\n",
       "    .dataframe tbody tr th:only-of-type {\n",
       "        vertical-align: middle;\n",
       "    }\n",
       "\n",
       "    .dataframe tbody tr th {\n",
       "        vertical-align: top;\n",
       "    }\n",
       "\n",
       "    .dataframe thead th {\n",
       "        text-align: right;\n",
       "    }\n",
       "</style>\n",
       "<table border=\"1\" class=\"dataframe\">\n",
       "  <thead>\n",
       "    <tr style=\"text-align: right;\">\n",
       "      <th></th>\n",
       "      <th>Date</th>\n",
       "      <th>GDP</th>\n",
       "      <th>PCE</th>\n",
       "      <th>Inv</th>\n",
       "      <th>G</th>\n",
       "    </tr>\n",
       "  </thead>\n",
       "  <tbody>\n",
       "    <tr>\n",
       "      <th>0</th>\n",
       "      <td>1980-03-01</td>\n",
       "      <td>5903.4</td>\n",
       "      <td>3796.7</td>\n",
       "      <td>778.3</td>\n",
       "      <td>1365.4</td>\n",
       "    </tr>\n",
       "    <tr>\n",
       "      <th>1</th>\n",
       "      <td>1980-06-01</td>\n",
       "      <td>5782.4</td>\n",
       "      <td>3710.5</td>\n",
       "      <td>708.1</td>\n",
       "      <td>1369.7</td>\n",
       "    </tr>\n",
       "    <tr>\n",
       "      <th>2</th>\n",
       "      <td>1980-09-01</td>\n",
       "      <td>5771.7</td>\n",
       "      <td>3750.3</td>\n",
       "      <td>654.1</td>\n",
       "      <td>1350.8</td>\n",
       "    </tr>\n",
       "    <tr>\n",
       "      <th>3</th>\n",
       "      <td>1980-12-01</td>\n",
       "      <td>5878.4</td>\n",
       "      <td>3800.3</td>\n",
       "      <td>720.6</td>\n",
       "      <td>1349.4</td>\n",
       "    </tr>\n",
       "    <tr>\n",
       "      <th>4</th>\n",
       "      <td>1981-03-01</td>\n",
       "      <td>6000.6</td>\n",
       "      <td>3821.1</td>\n",
       "      <td>792.2</td>\n",
       "      <td>1367.3</td>\n",
       "    </tr>\n",
       "    <tr>\n",
       "      <th>...</th>\n",
       "      <td>...</td>\n",
       "      <td>...</td>\n",
       "      <td>...</td>\n",
       "      <td>...</td>\n",
       "      <td>...</td>\n",
       "    </tr>\n",
       "    <tr>\n",
       "      <th>124</th>\n",
       "      <td>2011-03-01</td>\n",
       "      <td>13227.9</td>\n",
       "      <td>9376.7</td>\n",
       "      <td>1750.9</td>\n",
       "      <td>2513.9</td>\n",
       "    </tr>\n",
       "    <tr>\n",
       "      <th>125</th>\n",
       "      <td>2011-06-01</td>\n",
       "      <td>13271.8</td>\n",
       "      <td>9392.7</td>\n",
       "      <td>1778.4</td>\n",
       "      <td>2508.2</td>\n",
       "    </tr>\n",
       "    <tr>\n",
       "      <th>126</th>\n",
       "      <td>2011-09-01</td>\n",
       "      <td>13331.6</td>\n",
       "      <td>9433.5</td>\n",
       "      <td>1784.2</td>\n",
       "      <td>2507.6</td>\n",
       "    </tr>\n",
       "    <tr>\n",
       "      <th>127</th>\n",
       "      <td>2011-12-01</td>\n",
       "      <td>13429.0</td>\n",
       "      <td>9482.1</td>\n",
       "      <td>1875.7</td>\n",
       "      <td>2481.2</td>\n",
       "    </tr>\n",
       "    <tr>\n",
       "      <th>128</th>\n",
       "      <td>2012-03-01</td>\n",
       "      <td>13502.4</td>\n",
       "      <td>9550.2</td>\n",
       "      <td>1903.0</td>\n",
       "      <td>2462.2</td>\n",
       "    </tr>\n",
       "  </tbody>\n",
       "</table>\n",
       "<p>129 rows × 5 columns</p>\n",
       "</div>\n",
       "    <div class=\"colab-df-buttons\">\n",
       "\n",
       "  <div class=\"colab-df-container\">\n",
       "    <button class=\"colab-df-convert\" onclick=\"convertToInteractive('df-6188149c-87d2-4074-91e3-e0a6b05f4fb7')\"\n",
       "            title=\"Convert this dataframe to an interactive table.\"\n",
       "            style=\"display:none;\">\n",
       "\n",
       "  <svg xmlns=\"http://www.w3.org/2000/svg\" height=\"24px\" viewBox=\"0 -960 960 960\">\n",
       "    <path d=\"M120-120v-720h720v720H120Zm60-500h600v-160H180v160Zm220 220h160v-160H400v160Zm0 220h160v-160H400v160ZM180-400h160v-160H180v160Zm440 0h160v-160H620v160ZM180-180h160v-160H180v160Zm440 0h160v-160H620v160Z\"/>\n",
       "  </svg>\n",
       "    </button>\n",
       "\n",
       "  <style>\n",
       "    .colab-df-container {\n",
       "      display:flex;\n",
       "      gap: 12px;\n",
       "    }\n",
       "\n",
       "    .colab-df-convert {\n",
       "      background-color: #E8F0FE;\n",
       "      border: none;\n",
       "      border-radius: 50%;\n",
       "      cursor: pointer;\n",
       "      display: none;\n",
       "      fill: #1967D2;\n",
       "      height: 32px;\n",
       "      padding: 0 0 0 0;\n",
       "      width: 32px;\n",
       "    }\n",
       "\n",
       "    .colab-df-convert:hover {\n",
       "      background-color: #E2EBFA;\n",
       "      box-shadow: 0px 1px 2px rgba(60, 64, 67, 0.3), 0px 1px 3px 1px rgba(60, 64, 67, 0.15);\n",
       "      fill: #174EA6;\n",
       "    }\n",
       "\n",
       "    .colab-df-buttons div {\n",
       "      margin-bottom: 4px;\n",
       "    }\n",
       "\n",
       "    [theme=dark] .colab-df-convert {\n",
       "      background-color: #3B4455;\n",
       "      fill: #D2E3FC;\n",
       "    }\n",
       "\n",
       "    [theme=dark] .colab-df-convert:hover {\n",
       "      background-color: #434B5C;\n",
       "      box-shadow: 0px 1px 3px 1px rgba(0, 0, 0, 0.15);\n",
       "      filter: drop-shadow(0px 1px 2px rgba(0, 0, 0, 0.3));\n",
       "      fill: #FFFFFF;\n",
       "    }\n",
       "  </style>\n",
       "\n",
       "    <script>\n",
       "      const buttonEl =\n",
       "        document.querySelector('#df-6188149c-87d2-4074-91e3-e0a6b05f4fb7 button.colab-df-convert');\n",
       "      buttonEl.style.display =\n",
       "        google.colab.kernel.accessAllowed ? 'block' : 'none';\n",
       "\n",
       "      async function convertToInteractive(key) {\n",
       "        const element = document.querySelector('#df-6188149c-87d2-4074-91e3-e0a6b05f4fb7');\n",
       "        const dataTable =\n",
       "          await google.colab.kernel.invokeFunction('convertToInteractive',\n",
       "                                                    [key], {});\n",
       "        if (!dataTable) return;\n",
       "\n",
       "        const docLinkHtml = 'Like what you see? Visit the ' +\n",
       "          '<a target=\"_blank\" href=https://colab.research.google.com/notebooks/data_table.ipynb>data table notebook</a>'\n",
       "          + ' to learn more about interactive tables.';\n",
       "        element.innerHTML = '';\n",
       "        dataTable['output_type'] = 'display_data';\n",
       "        await google.colab.output.renderOutput(dataTable, element);\n",
       "        const docLink = document.createElement('div');\n",
       "        docLink.innerHTML = docLinkHtml;\n",
       "        element.appendChild(docLink);\n",
       "      }\n",
       "    </script>\n",
       "  </div>\n",
       "\n",
       "\n",
       "<div id=\"df-65a153b8-70c4-4b53-b747-a1fc28b33ccd\">\n",
       "  <button class=\"colab-df-quickchart\" onclick=\"quickchart('df-65a153b8-70c4-4b53-b747-a1fc28b33ccd')\"\n",
       "            title=\"Suggest charts\"\n",
       "            style=\"display:none;\">\n",
       "\n",
       "<svg xmlns=\"http://www.w3.org/2000/svg\" height=\"24px\"viewBox=\"0 0 24 24\"\n",
       "     width=\"24px\">\n",
       "    <g>\n",
       "        <path d=\"M19 3H5c-1.1 0-2 .9-2 2v14c0 1.1.9 2 2 2h14c1.1 0 2-.9 2-2V5c0-1.1-.9-2-2-2zM9 17H7v-7h2v7zm4 0h-2V7h2v10zm4 0h-2v-4h2v4z\"/>\n",
       "    </g>\n",
       "</svg>\n",
       "  </button>\n",
       "\n",
       "<style>\n",
       "  .colab-df-quickchart {\n",
       "      --bg-color: #E8F0FE;\n",
       "      --fill-color: #1967D2;\n",
       "      --hover-bg-color: #E2EBFA;\n",
       "      --hover-fill-color: #174EA6;\n",
       "      --disabled-fill-color: #AAA;\n",
       "      --disabled-bg-color: #DDD;\n",
       "  }\n",
       "\n",
       "  [theme=dark] .colab-df-quickchart {\n",
       "      --bg-color: #3B4455;\n",
       "      --fill-color: #D2E3FC;\n",
       "      --hover-bg-color: #434B5C;\n",
       "      --hover-fill-color: #FFFFFF;\n",
       "      --disabled-bg-color: #3B4455;\n",
       "      --disabled-fill-color: #666;\n",
       "  }\n",
       "\n",
       "  .colab-df-quickchart {\n",
       "    background-color: var(--bg-color);\n",
       "    border: none;\n",
       "    border-radius: 50%;\n",
       "    cursor: pointer;\n",
       "    display: none;\n",
       "    fill: var(--fill-color);\n",
       "    height: 32px;\n",
       "    padding: 0;\n",
       "    width: 32px;\n",
       "  }\n",
       "\n",
       "  .colab-df-quickchart:hover {\n",
       "    background-color: var(--hover-bg-color);\n",
       "    box-shadow: 0 1px 2px rgba(60, 64, 67, 0.3), 0 1px 3px 1px rgba(60, 64, 67, 0.15);\n",
       "    fill: var(--button-hover-fill-color);\n",
       "  }\n",
       "\n",
       "  .colab-df-quickchart-complete:disabled,\n",
       "  .colab-df-quickchart-complete:disabled:hover {\n",
       "    background-color: var(--disabled-bg-color);\n",
       "    fill: var(--disabled-fill-color);\n",
       "    box-shadow: none;\n",
       "  }\n",
       "\n",
       "  .colab-df-spinner {\n",
       "    border: 2px solid var(--fill-color);\n",
       "    border-color: transparent;\n",
       "    border-bottom-color: var(--fill-color);\n",
       "    animation:\n",
       "      spin 1s steps(1) infinite;\n",
       "  }\n",
       "\n",
       "  @keyframes spin {\n",
       "    0% {\n",
       "      border-color: transparent;\n",
       "      border-bottom-color: var(--fill-color);\n",
       "      border-left-color: var(--fill-color);\n",
       "    }\n",
       "    20% {\n",
       "      border-color: transparent;\n",
       "      border-left-color: var(--fill-color);\n",
       "      border-top-color: var(--fill-color);\n",
       "    }\n",
       "    30% {\n",
       "      border-color: transparent;\n",
       "      border-left-color: var(--fill-color);\n",
       "      border-top-color: var(--fill-color);\n",
       "      border-right-color: var(--fill-color);\n",
       "    }\n",
       "    40% {\n",
       "      border-color: transparent;\n",
       "      border-right-color: var(--fill-color);\n",
       "      border-top-color: var(--fill-color);\n",
       "    }\n",
       "    60% {\n",
       "      border-color: transparent;\n",
       "      border-right-color: var(--fill-color);\n",
       "    }\n",
       "    80% {\n",
       "      border-color: transparent;\n",
       "      border-right-color: var(--fill-color);\n",
       "      border-bottom-color: var(--fill-color);\n",
       "    }\n",
       "    90% {\n",
       "      border-color: transparent;\n",
       "      border-bottom-color: var(--fill-color);\n",
       "    }\n",
       "  }\n",
       "</style>\n",
       "\n",
       "  <script>\n",
       "    async function quickchart(key) {\n",
       "      const quickchartButtonEl =\n",
       "        document.querySelector('#' + key + ' button');\n",
       "      quickchartButtonEl.disabled = true;  // To prevent multiple clicks.\n",
       "      quickchartButtonEl.classList.add('colab-df-spinner');\n",
       "      try {\n",
       "        const charts = await google.colab.kernel.invokeFunction(\n",
       "            'suggestCharts', [key], {});\n",
       "      } catch (error) {\n",
       "        console.error('Error during call to suggestCharts:', error);\n",
       "      }\n",
       "      quickchartButtonEl.classList.remove('colab-df-spinner');\n",
       "      quickchartButtonEl.classList.add('colab-df-quickchart-complete');\n",
       "    }\n",
       "    (() => {\n",
       "      let quickchartButtonEl =\n",
       "        document.querySelector('#df-65a153b8-70c4-4b53-b747-a1fc28b33ccd button');\n",
       "      quickchartButtonEl.style.display =\n",
       "        google.colab.kernel.accessAllowed ? 'block' : 'none';\n",
       "    })();\n",
       "  </script>\n",
       "</div>\n",
       "    </div>\n",
       "  </div>\n"
      ]
     },
     "metadata": {},
     "execution_count": 58
    }
   ]
  },
  {
   "cell_type": "code",
   "source": [
    "dfexample2.columns"
   ],
   "metadata": {
    "id": "cS996PJ_P3rT"
   },
   "execution_count": null,
   "outputs": []
  },
  {
   "cell_type": "code",
   "source": [
    "# Time for exercise\n",
    "#I want to extract some columns only over some dates, for example\n",
    "#I want to work with data only on G and Inv and I want to restrict the samplebetween Jan 2009 and Dec 2011\n",
    "Start_date=\"2009-01-01\"\n",
    "End_date=\"2009-12-01\"\n",
    "Start_variable=\"Inv\"\n",
    "end_variable=\"G\"\n",
    "tsdata= dfexample2.loc[\"2009-01-01\":\"2009-12-01\",[\"Date\",\"Inv\",\"G\"]]\n",
    "tsdata\n"
   ],
   "metadata": {
    "colab": {
     "base_uri": "https://localhost:8080/",
     "height": 53
    },
    "id": "p0BhwDkmKT5z",
    "executionInfo": {
     "status": "ok",
     "timestamp": 1707071665833,
     "user_tz": 0,
     "elapsed": 297,
     "user": {
      "displayName": "malvina marchese",
      "userId": "02113412455032806183"
     }
    },
    "outputId": "fc89821f-d614-4d32-ccb3-a4a6bee187b4"
   },
   "execution_count": 92,
   "outputs": [
    {
     "output_type": "execute_result",
     "data": {
      "text/plain": [
       "Empty DataFrame\n",
       "Columns: [Date, Inv, G]\n",
       "Index: []"
      ],
      "text/html": [
       "\n",
       "  <div id=\"df-5bdf1db8-ca26-4498-9070-4fb7ffbb9852\" class=\"colab-df-container\">\n",
       "    <div>\n",
       "<style scoped>\n",
       "    .dataframe tbody tr th:only-of-type {\n",
       "        vertical-align: middle;\n",
       "    }\n",
       "\n",
       "    .dataframe tbody tr th {\n",
       "        vertical-align: top;\n",
       "    }\n",
       "\n",
       "    .dataframe thead th {\n",
       "        text-align: right;\n",
       "    }\n",
       "</style>\n",
       "<table border=\"1\" class=\"dataframe\">\n",
       "  <thead>\n",
       "    <tr style=\"text-align: right;\">\n",
       "      <th></th>\n",
       "      <th>Date</th>\n",
       "      <th>Inv</th>\n",
       "      <th>G</th>\n",
       "    </tr>\n",
       "  </thead>\n",
       "  <tbody>\n",
       "  </tbody>\n",
       "</table>\n",
       "</div>\n",
       "    <div class=\"colab-df-buttons\">\n",
       "\n",
       "  <div class=\"colab-df-container\">\n",
       "    <button class=\"colab-df-convert\" onclick=\"convertToInteractive('df-5bdf1db8-ca26-4498-9070-4fb7ffbb9852')\"\n",
       "            title=\"Convert this dataframe to an interactive table.\"\n",
       "            style=\"display:none;\">\n",
       "\n",
       "  <svg xmlns=\"http://www.w3.org/2000/svg\" height=\"24px\" viewBox=\"0 -960 960 960\">\n",
       "    <path d=\"M120-120v-720h720v720H120Zm60-500h600v-160H180v160Zm220 220h160v-160H400v160Zm0 220h160v-160H400v160ZM180-400h160v-160H180v160Zm440 0h160v-160H620v160ZM180-180h160v-160H180v160Zm440 0h160v-160H620v160Z\"/>\n",
       "  </svg>\n",
       "    </button>\n",
       "\n",
       "  <style>\n",
       "    .colab-df-container {\n",
       "      display:flex;\n",
       "      gap: 12px;\n",
       "    }\n",
       "\n",
       "    .colab-df-convert {\n",
       "      background-color: #E8F0FE;\n",
       "      border: none;\n",
       "      border-radius: 50%;\n",
       "      cursor: pointer;\n",
       "      display: none;\n",
       "      fill: #1967D2;\n",
       "      height: 32px;\n",
       "      padding: 0 0 0 0;\n",
       "      width: 32px;\n",
       "    }\n",
       "\n",
       "    .colab-df-convert:hover {\n",
       "      background-color: #E2EBFA;\n",
       "      box-shadow: 0px 1px 2px rgba(60, 64, 67, 0.3), 0px 1px 3px 1px rgba(60, 64, 67, 0.15);\n",
       "      fill: #174EA6;\n",
       "    }\n",
       "\n",
       "    .colab-df-buttons div {\n",
       "      margin-bottom: 4px;\n",
       "    }\n",
       "\n",
       "    [theme=dark] .colab-df-convert {\n",
       "      background-color: #3B4455;\n",
       "      fill: #D2E3FC;\n",
       "    }\n",
       "\n",
       "    [theme=dark] .colab-df-convert:hover {\n",
       "      background-color: #434B5C;\n",
       "      box-shadow: 0px 1px 3px 1px rgba(0, 0, 0, 0.15);\n",
       "      filter: drop-shadow(0px 1px 2px rgba(0, 0, 0, 0.3));\n",
       "      fill: #FFFFFF;\n",
       "    }\n",
       "  </style>\n",
       "\n",
       "    <script>\n",
       "      const buttonEl =\n",
       "        document.querySelector('#df-5bdf1db8-ca26-4498-9070-4fb7ffbb9852 button.colab-df-convert');\n",
       "      buttonEl.style.display =\n",
       "        google.colab.kernel.accessAllowed ? 'block' : 'none';\n",
       "\n",
       "      async function convertToInteractive(key) {\n",
       "        const element = document.querySelector('#df-5bdf1db8-ca26-4498-9070-4fb7ffbb9852');\n",
       "        const dataTable =\n",
       "          await google.colab.kernel.invokeFunction('convertToInteractive',\n",
       "                                                    [key], {});\n",
       "        if (!dataTable) return;\n",
       "\n",
       "        const docLinkHtml = 'Like what you see? Visit the ' +\n",
       "          '<a target=\"_blank\" href=https://colab.research.google.com/notebooks/data_table.ipynb>data table notebook</a>'\n",
       "          + ' to learn more about interactive tables.';\n",
       "        element.innerHTML = '';\n",
       "        dataTable['output_type'] = 'display_data';\n",
       "        await google.colab.output.renderOutput(dataTable, element);\n",
       "        const docLink = document.createElement('div');\n",
       "        docLink.innerHTML = docLinkHtml;\n",
       "        element.appendChild(docLink);\n",
       "      }\n",
       "    </script>\n",
       "  </div>\n",
       "\n",
       "    </div>\n",
       "  </div>\n"
      ]
     },
     "metadata": {},
     "execution_count": 92
    }
   ]
  }
 ]
}
